{
  "nbformat": 4,
  "nbformat_minor": 0,
  "metadata": {
    "kernelspec": {
      "display_name": "Python 3",
      "language": "python",
      "name": "python3"
    },
    "language_info": {
      "codemirror_mode": {
        "name": "ipython",
        "version": 3
      },
      "file_extension": ".py",
      "mimetype": "text/x-python",
      "name": "python",
      "nbconvert_exporter": "python",
      "pygments_lexer": "ipython3",
      "version": "3.7.4"
    },
    "colab": {
      "name": "projektZaliczeniowynr2.ipynb",
      "provenance": []
    }
  },
  "cells": [
    {
      "cell_type": "markdown",
      "metadata": {
        "id": "V4Is3L_DBChW",
        "colab_type": "text"
      },
      "source": [
        "Projekt #2 (Vector2D)"
      ]
    },
    {
      "cell_type": "code",
      "metadata": {
        "id": "XEcV5FTgBChY",
        "colab_type": "code",
        "colab": {}
      },
      "source": [
        "import math\n",
        "import random\n",
        "import operator\n",
        "\n",
        "\n",
        "class Vec2D:\n",
        "    def __init__(self, x, y):\n",
        "        self.x = x\n",
        "        self.y = y\n",
        "        \n",
        "    def add(self, vector):\n",
        "        x, y = self.__basic_operation(self, vector, operator.add)\n",
        "        return Vector2D(x, y)          \n",
        "        \n",
        "    def __repr__(self):\n",
        "        return (self.x, self.y)\n",
        "      \n",
        "    def get_lenght(self):\n",
        "        return math.sqrt(self.x**2 + self.y**2)\n",
        "  \n",
        "    def inverse(self):\n",
        "        return Vec2(1.0/self.x, 1.0/self.y)\n",
        "    \n",
        "    def round(self):\n",
        "        return Vec2(round(self.x), round(self.y))\n",
        "         \n",
        "    def subtract(self, vector):\n",
        "        x, y = self.__basic_operation(self, vector.inverse(), operator.sub)\n",
        "        return Vector2D(x, y)      \n",
        "   "
      ],
      "execution_count": 0,
      "outputs": []
    }
  ]
}