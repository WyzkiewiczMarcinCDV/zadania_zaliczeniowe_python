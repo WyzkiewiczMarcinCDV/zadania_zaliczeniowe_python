{
  "nbformat": 4,
  "nbformat_minor": 0,
  "metadata": {
    "kernelspec": {
      "display_name": "Python 3",
      "language": "python",
      "name": "python3"
    },
    "language_info": {
      "codemirror_mode": {
        "name": "ipython",
        "version": 3
      },
      "file_extension": ".py",
      "mimetype": "text/x-python",
      "name": "python",
      "nbconvert_exporter": "python",
      "pygments_lexer": "ipython3",
      "version": "3.7.4"
    },
    "colab": {
      "name": "zadaniaZaliczeniowe.ipynb",
      "provenance": []
    }
  },
  "cells": [
    {
      "cell_type": "markdown",
      "metadata": {
        "id": "7n-3BEPW8FEG",
        "colab_type": "text"
      },
      "source": [
        "**Marcin Wyżkiewicz**\n",
        "\n",
        "Data Science I stopnia\n",
        "\n",
        "niestacjonarne\n",
        "\n",
        "nr albumu 24811"
      ]
    },
    {
      "cell_type": "code",
      "metadata": {
        "id": "AdTNf0xJ8FEI",
        "colab_type": "code",
        "colab": {}
      },
      "source": [
        "#import potrzebnych biblotek\n",
        "\n",
        "import numpy as np\n",
        "from math import sqrt\n",
        "from matplotlib import pyplot as plt\n",
        "from collections import Counter\n",
        "from scipy.stats import kurtosis, skew"
      ],
      "execution_count": 0,
      "outputs": []
    },
    {
      "cell_type": "markdown",
      "metadata": {
        "id": "K9lAvOW28FEL",
        "colab_type": "text"
      },
      "source": [
        "**Zadanie 1**"
      ]
    },
    {
      "cell_type": "code",
      "metadata": {
        "collapsed": true,
        "jupyter": {
          "outputs_hidden": true
        },
        "id": "Q7EKUhag8FEM",
        "colab_type": "code",
        "colab": {}
      },
      "source": [
        "def kolejne_dzielniki(number):\n",
        "    for d in range(1, int(number)+1):\n",
        "        if number % d == 0:\n",
        "            print(d)\n",
        "            \n",
        "kolejne_dzielniki(42) "
      ],
      "execution_count": 0,
      "outputs": []
    },
    {
      "cell_type": "markdown",
      "metadata": {
        "id": "9tUQ53gr8FEP",
        "colab_type": "text"
      },
      "source": [
        "**Zadanie** **5**"
      ]
    },
    {
      "cell_type": "code",
      "metadata": {
        "collapsed": true,
        "jupyter": {
          "outputs_hidden": true
        },
        "id": "xluJxVYw8FEQ",
        "colab_type": "code",
        "colab": {},
        "outputId": "74e5f8ed-ac03-4401-ba45-c2056e8d6c43"
      },
      "source": [
        "num = float(input(\"Podaj liczbe: \"))\n",
        "if num > 0:\n",
        "   print(\"Dodatnia\")\n",
        "elif num == 0:\n",
        "   print(\"Zero\")\n",
        "else:\n",
        "   print(\"Ujemna\")"
      ],
      "execution_count": 0,
      "outputs": [
        {
          "output_type": "stream",
          "text": [
            "Enter a number:  10\n"
          ],
          "name": "stdin"
        },
        {
          "output_type": "stream",
          "text": [
            "Positive number\n"
          ],
          "name": "stdout"
        }
      ]
    },
    {
      "cell_type": "markdown",
      "metadata": {
        "id": "IP7Jote28FET",
        "colab_type": "text"
      },
      "source": [
        "**Zadanie** **8**"
      ]
    },
    {
      "cell_type": "code",
      "metadata": {
        "collapsed": true,
        "jupyter": {
          "outputs_hidden": true,
          "source_hidden": true
        },
        "id": "uBsD77oR8FEU",
        "colab_type": "code",
        "colab": {},
        "outputId": "8adff55a-7921-4049-f8df-fb2c7cd1b54c"
      },
      "source": [
        "s=\"przykladowe zdanie do odwrocenia\"\n",
        "\n",
        "a=s.split()\n",
        "\n",
        "a.reverse()\n",
        "\n",
        "result = \" \".join(a)\n",
        "\n",
        "print(result)"
      ],
      "execution_count": 0,
      "outputs": [
        {
          "output_type": "stream",
          "text": [
            "odwrocenia do zdanie przykladowe\n"
          ],
          "name": "stdout"
        }
      ]
    },
    {
      "cell_type": "markdown",
      "metadata": {
        "id": "Y3dxtF3B8FEX",
        "colab_type": "text"
      },
      "source": [
        "**Zadanie 12**"
      ]
    },
    {
      "cell_type": "code",
      "metadata": {
        "collapsed": true,
        "jupyter": {
          "outputs_hidden": true
        },
        "id": "606Fg2Kn8FEY",
        "colab_type": "code",
        "colab": {},
        "outputId": "ed72dabe-f398-453c-c613-b1f201f4aadb"
      },
      "source": [
        "def skrypt_fibonacci(n):\n",
        "    if n == 1  or n == 0 :\n",
        "        return n\n",
        "\n",
        "    f = 1\n",
        "    f_prim = 0\n",
        "    \n",
        "    for i in range(2, n + 1):\n",
        "        m = f + f_prim\n",
        "        f_prim = f\n",
        "        f = m\n",
        "\n",
        "    return f\n",
        "\n",
        "def skrypt_fibonacci(n):\n",
        "    if n == 0 or n == 1:\n",
        "        return n\n",
        "\n",
        "    return skrypt_fibonacci(n-1) + skrypt_fibonacci(n-2)\n",
        "\n",
        "n = int(input('Podaj liczbe: '))\n",
        "f = skrypt_fibonacci(n)\n",
        "print(str(n) + ' liczba w ciągu to: ' + str(f))\n",
        "print(skrypt_fibonacci(n))"
      ],
      "execution_count": 0,
      "outputs": [
        {
          "output_type": "stream",
          "text": [
            "Podaj liczbe:  16\n"
          ],
          "name": "stdin"
        },
        {
          "output_type": "stream",
          "text": [
            "16 liczba w ciągu to: 987\n",
            "987\n"
          ],
          "name": "stdout"
        }
      ]
    },
    {
      "cell_type": "markdown",
      "metadata": {
        "id": "p0y4AV1i8FEb",
        "colab_type": "text"
      },
      "source": [
        "**Zadanie 17**"
      ]
    },
    {
      "cell_type": "code",
      "metadata": {
        "collapsed": true,
        "jupyter": {
          "outputs_hidden": true
        },
        "id": "yvPzwCjr8FEc",
        "colab_type": "code",
        "colab": {},
        "outputId": "b81fabf5-05fe-40b8-8df9-7e8acc21761a"
      },
      "source": [
        "#a\n",
        "\n",
        "def linear_data(a, b):\n",
        "    xaxis = []\n",
        "    yaxis = []\n",
        "    for x in range(0, 100):\n",
        "        xaxis.append(x)\n",
        "        yaxis.append(a*x + b)\n",
        "        \n",
        "    return xaxis, yaxis\n",
        "\n",
        "x, y = linear_data(6, 3)\n",
        "plt.plot(x, y)\n",
        "\n",
        "#b\n",
        "\n",
        "def quadratic_data(a, b, c):\n",
        "    xaxis = []\n",
        "    yaxis = []\n",
        "    for x in range(0, 100):\n",
        "        xaxis.append(x)\n",
        "        yaxis.append(a*(x**2) + b*x + c)\n",
        "        \n",
        "    return xaxis, yaxis\n",
        "\n",
        "x, y = quadratic_data(6, 3, 6)\n",
        "plt.plot(x, y)\n",
        "\n",
        "#c\n",
        "\n",
        "def inverse_power_data(a, n):\n",
        "    \n",
        "    xaxis = []\n",
        "    yaxis = []\n",
        "    for x in range(1, 100):\n",
        "        xaxis.append(x)\n",
        "        yaxis.append(a/(x**n))\n",
        "        \n",
        "    return xaxis, yaxis\n",
        "\n",
        "x, y = inverse_power_data(6, 3)\n",
        "plt.plot(x, y)\n"
      ],
      "execution_count": 0,
      "outputs": [
        {
          "output_type": "execute_result",
          "data": {
            "text/plain": [
              "[<matplotlib.lines.Line2D at 0x1a1c125c10>]"
            ]
          },
          "metadata": {
            "tags": []
          },
          "execution_count": 8
        },
        {
          "output_type": "display_data",
          "data": {
            "image/png": "[encoded data removed]",
            "text/plain": [
              "<Figure size 432x288 with 1 Axes>"
            ]
          },
          "metadata": {
            "tags": [],
            "needs_background": "light"
          }
        }
      ]
    },
    {
      "cell_type": "markdown",
      "metadata": {
        "id": "JB_KA45P8FEf",
        "colab_type": "text"
      },
      "source": [
        "**Zadanie 19**"
      ]
    },
    {
      "cell_type": "code",
      "metadata": {
        "id": "VRUGcGut8FEf",
        "colab_type": "code",
        "colab": {
          "base_uri": "https://localhost:8080/",
          "height": 72
        },
        "outputId": "ec8b9a2c-c15e-42c6-f7bc-f45b8e1bcd31"
      },
      "source": [
        "print(\"Lista miesięcy: Styczeń, Luty, Marzec, Kwiecień, Maj, Czerwiec, Lipiec, Sierpień, Wrzesień, Październik, Listopad, Grudzień\")\n",
        "month_name = input(\"Podaj nazwe miesiąca: \")\n",
        "\n",
        "if month_name == \"Luty\":\n",
        "\tprint(\"Liczba dni: 28/29 dni\")\n",
        "elif month_name in (\"Kwiecień\", \"Czerwiec\", \"Październik\", \"Lisopad\"):\n",
        "\tprint(\"Liczba dni: 30 dni\")\n",
        "elif month_name in (\"Styczeń\", \"Marzec\", \"Maj\", \"Lipiec\", \"Sierpień\", \"Wrzesień\", \"Grudzień\"):\n",
        "\tprint(\"Liczba dni: 31 dni\")\n",
        "else:\n",
        "\tprint(\"Zła nazwa miesiąca\") "
      ],
      "execution_count": 0,
      "outputs": [
        {
          "output_type": "stream",
          "text": [
            "Lista miesięcy: Styczeń, Luty, Marzec, Kwiecień, Maj, Czerwiec, Lipiec, Sierpień, Wrzesień, Październik, Listopad, Grudzień\n"
          ],
          "name": "stdout"
        }
      ]
    },
    {
      "cell_type": "markdown",
      "metadata": {
        "id": "QV3sTlaC8FEi",
        "colab_type": "text"
      },
      "source": [
        "**Zadanie 26**"
      ]
    },
    {
      "cell_type": "code",
      "metadata": {
        "id": "chylr-zo8FEj",
        "colab_type": "code",
        "colab": {}
      },
      "source": [
        "def checkList(listOfElements):\n",
        "    return all(isinstance(element, (int, float)) for element in listOfElements)\n",
        "\n",
        "\n",
        "def skewness(listOfNumbers):\n",
        "    try:\n",
        "        assert checkList(listOfNumbers)\n",
        "        average = sum(listOfNumbers)/len(listOfNumbers)\n",
        "        return round(sum(map(lambda x: (x-average)**3 ,listOfNumbers))/len(listOfNumbers),3)\n",
        "    except AssertionError:\n",
        "        print(\"komunikat\")\n",
        "    \n",
        "skewness([16, 1.32, 1.22, 7.2])"
      ],
      "execution_count": 0,
      "outputs": []
    },
    {
      "cell_type": "markdown",
      "metadata": {
        "id": "razw4y_T8FEm",
        "colab_type": "text"
      },
      "source": [
        "**Zadanie 27**"
      ]
    },
    {
      "cell_type": "code",
      "metadata": {
        "id": "6mMe2nFc8FEn",
        "colab_type": "code",
        "colab": {}
      },
      "source": [
        "from scipy.stats import kurtosis \n",
        "import numpy as np  \n",
        "import pylab as p  \n",
        "  \n",
        "x1 = np.linspace( -5, 5, 1000 ) \n",
        "y1 = 1./(np.sqrt(2.*np.pi)) * np.exp( -.5*(x1)**2  ) \n",
        "  \n",
        "p.plot(x1, y1, '*') \n"
      ],
      "execution_count": 0,
      "outputs": []
    },
    {
      "cell_type": "markdown",
      "metadata": {
        "id": "cnJy3Lev8FEp",
        "colab_type": "text"
      },
      "source": [
        "**Zadanie 34**"
      ]
    },
    {
      "cell_type": "code",
      "metadata": {
        "collapsed": true,
        "jupyter": {
          "outputs_hidden": true
        },
        "id": "E8a64klq8FEq",
        "colab_type": "code",
        "colab": {},
        "outputId": "5ac6b4ce-5bc4-4d0d-a917-e00e115d3293"
      },
      "source": [
        "\n",
        "class Kwadrat:\n",
        "    \n",
        "    \n",
        "    def __init__(self, wall_size):\n",
        "        self.wall_size = wall_size\n",
        "        \n",
        "    def field(self):\n",
        "        return self.wall_size**2\n",
        "    \n",
        "    def circumference(self):\n",
        "        return self.wall_size**4\n",
        "    \n",
        "    \n",
        "kw = Kwadrat(wall_size=2)\n",
        "print(kw.field())\n",
        "print(kw.circumference())"
      ],
      "execution_count": 0,
      "outputs": [
        {
          "output_type": "stream",
          "text": [
            "4\n",
            "16\n"
          ],
          "name": "stdout"
        }
      ]
    },
    {
      "cell_type": "markdown",
      "metadata": {
        "id": "f2x6gkd_8FEv",
        "colab_type": "text"
      },
      "source": [
        "**Zadanie 35**"
      ]
    },
    {
      "cell_type": "code",
      "metadata": {
        "collapsed": true,
        "jupyter": {
          "outputs_hidden": true
        },
        "id": "UmpQx7su8FEv",
        "colab_type": "code",
        "colab": {},
        "outputId": "73d738fc-79d3-4cc8-a5ef-9820a9c63304"
      },
      "source": [
        "class Prostokat():\n",
        "    def __init__(self, a, b):\n",
        "        self.a = a\n",
        "        self.b = b\n",
        "        \n",
        "    def obwod (self):\n",
        "        return 2*self.a+2*self.b\n",
        "\n",
        "    def pole (self):\n",
        "        return self.a*self.b\n",
        "\n",
        "# pytam się o wymiary prostokąta\n",
        "        \n",
        "print ('Podaj długosc boku A')\n",
        "Bok1 = int(input())\n",
        "print ('Podaj długosc boku B')\n",
        "Bok2 = int(input())\n",
        "        \n",
        "x = ProstyProstokat (BokA,BokB)\n",
        "print (\"Obwód wynosi:\", x.obwod())\n",
        "print ('Pole wynosi', x.pole())\n",
        "\n",
        "# po przez dziedziczenie klas tworzę klasę kwadrat\n",
        "class Kwadrat(Prostokat):\n",
        "    def __init__(self, a):\n",
        "        super().__init__(a, a)\n",
        "\n",
        "y = Kwadrat (BokA)\n",
        "print (\"Obwód Kwadratu wynosi\", y.obwod())\n",
        "print ('Pole kwadratu wynosi', y.pole())\n"
      ],
      "execution_count": 0,
      "outputs": [
        {
          "output_type": "stream",
          "text": [
            "Podaj długosc boku A\n"
          ],
          "name": "stdout"
        },
        {
          "output_type": "stream",
          "text": [
            " 10\n"
          ],
          "name": "stdin"
        },
        {
          "output_type": "stream",
          "text": [
            "Podaj długosc boku B\n"
          ],
          "name": "stdout"
        },
        {
          "output_type": "stream",
          "text": [
            " 20\n"
          ],
          "name": "stdin"
        },
        {
          "output_type": "stream",
          "text": [
            "Obwód wynosi: 60\n",
            "Pole wynosi 200\n",
            "Obwód Kwadratu wynosi 40\n",
            "Pole kwadratu wynosi 100\n"
          ],
          "name": "stdout"
        }
      ]
    },
    {
      "cell_type": "code",
      "metadata": {
        "id": "AiZaW4OG8FEy",
        "colab_type": "code",
        "colab": {}
      },
      "source": [
        ""
      ],
      "execution_count": 0,
      "outputs": []
    }
  ]
}